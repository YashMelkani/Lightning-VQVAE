{
 "cells": [
  {
   "cell_type": "markdown",
   "id": "e82b7881-b6d5-4125-aed1-ab5affad8706",
   "metadata": {},
   "source": [
    "# Launch Tensorboard"
   ]
  },
  {
   "cell_type": "code",
   "execution_count": 7,
   "id": "19e0fd1c-48a0-44e3-8c00-a0d122572d9e",
   "metadata": {
    "tags": []
   },
   "outputs": [
    {
     "name": "stdout",
     "output_type": "stream",
     "text": [
      "The tensorboard extension is already loaded. To reload it, use:\n",
      "  %reload_ext tensorboard\n"
     ]
    }
   ],
   "source": [
    "import nersc_tensorboard_helper\n",
    "%load_ext tensorboard\n"
   ]
  },
  {
   "cell_type": "code",
   "execution_count": 8,
   "id": "c5616e31-2354-4af6-9dd6-12003385b61d",
   "metadata": {
    "tags": []
   },
   "outputs": [
    {
     "data": {
      "text/plain": [
       "Reusing TensorBoard on port 36103 (pid 1952197), started 2:58:54 ago. (Use '!kill 1952197' to kill it.)"
      ]
     },
     "metadata": {},
     "output_type": "display_data"
    },
    {
     "data": {
      "text/html": [
       "\n",
       "      <iframe id=\"tensorboard-frame-d6ccb682cf98db4\" width=\"100%\" height=\"800\" frameborder=\"0\">\n",
       "      </iframe>\n",
       "      <script>\n",
       "        (function() {\n",
       "          const frame = document.getElementById(\"tensorboard-frame-d6ccb682cf98db4\");\n",
       "          const url = new URL(\"/\", window.location);\n",
       "          const port = 36103;\n",
       "          if (port) {\n",
       "            url.port = port;\n",
       "          }\n",
       "          frame.src = url;\n",
       "        })();\n",
       "      </script>\n",
       "    "
      ],
      "text/plain": [
       "<IPython.core.display.HTML object>"
      ]
     },
     "metadata": {},
     "output_type": "display_data"
    }
   ],
   "source": [
    "%tensorboard --logdir ./results/ --port 0"
   ]
  },
  {
   "cell_type": "code",
   "execution_count": 9,
   "id": "9c50db24-c6e2-436f-abc1-9f3fdbc010a4",
   "metadata": {
    "tags": []
   },
   "outputs": [
    {
     "data": {
      "text/html": [
       "<a href=\"https://jupyter.nersc.gov/user/yashm/perlmutter-login-node-base/proxy/36103/\">https://jupyter.nersc.gov/user/yashm/perlmutter-login-node-base/proxy/36103/</a>"
      ],
      "text/plain": [
       "<IPython.core.display.HTML object>"
      ]
     },
     "metadata": {},
     "output_type": "display_data"
    }
   ],
   "source": [
    "nersc_tensorboard_helper.tb_address()\n"
   ]
  },
  {
   "cell_type": "markdown",
   "id": "bb75689c-61b3-451c-94e0-f55565036de0",
   "metadata": {},
   "source": [
    "### DELETE TRAININGLOG"
   ]
  },
  {
   "cell_type": "code",
   "execution_count": 16,
   "id": "97e1390e-4acb-4019-b748-399017e69d2b",
   "metadata": {},
   "outputs": [],
   "source": [
    "import shutil\n",
    "\n",
    "shutil.rmtree('./results/unconditional-vqvae/')\n"
   ]
  },
  {
   "cell_type": "code",
   "execution_count": null,
   "id": "9abefd4d-f6b2-4fa3-9023-66a3e8575df3",
   "metadata": {},
   "outputs": [],
   "source": []
  }
 ],
 "metadata": {
  "kernelspec": {
   "display_name": "pytorch-2.3.1",
   "language": "python",
   "name": "pytorch-2.3.1"
  },
  "language_info": {
   "codemirror_mode": {
    "name": "ipython",
    "version": 3
   },
   "file_extension": ".py",
   "mimetype": "text/x-python",
   "name": "python",
   "nbconvert_exporter": "python",
   "pygments_lexer": "ipython3",
   "version": "3.11.9"
  }
 },
 "nbformat": 4,
 "nbformat_minor": 5
}
